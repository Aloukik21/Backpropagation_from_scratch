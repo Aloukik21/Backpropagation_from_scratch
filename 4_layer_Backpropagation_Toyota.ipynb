{
 "cells": [
  {
   "cell_type": "markdown",
   "metadata": {
    "colab_type": "text",
    "id": "cOQoN81W74v0"
   },
   "source": [
    "# **Classification of Fuel type of the car (Petrol or Diesel) using 4 layer Backpropagation**"
   ]
  },
  {
   "cell_type": "code",
   "execution_count": 29,
   "metadata": {
    "colab": {},
    "colab_type": "code",
    "id": "hQwkf1Ru73QF"
   },
   "outputs": [],
   "source": [
    "import pandas as pd\n",
    "import numpy as np\n",
    "import math\n",
    "from sklearn.preprocessing import OneHotEncoder\n",
    "from sklearn.metrics import accuracy_score\n",
    "import time\n",
    "from sklearn.metrics import mean_squared_error\n",
    "import statistics\n",
    "from sklearn.model_selection import train_test_split\n",
    "from sklearn.preprocessing import LabelEncoder"
   ]
  },
  {
   "cell_type": "code",
   "execution_count": null,
   "metadata": {
    "colab": {
     "base_uri": "https://localhost:8080/",
     "height": 34
    },
    "colab_type": "code",
    "id": "-AYmUZhfcNo2",
    "outputId": "39a8ae1c-a6e5-4182-f5a0-b80f922a66fe"
   },
   "outputs": [],
   "source": []
  },
  {
   "cell_type": "code",
   "execution_count": 30,
   "metadata": {
    "colab": {},
    "colab_type": "code",
    "id": "sa1IsW_kcP9c"
   },
   "outputs": [],
   "source": [
    "data = pd.read_csv('ToyotaCorolla.csv')#--------------Loading the dataset"
   ]
  },
  {
   "cell_type": "code",
   "execution_count": 31,
   "metadata": {
    "colab": {},
    "colab_type": "code",
    "id": "tqrQiLMLcXnL"
   },
   "outputs": [],
   "source": [
    "\n",
    "labelencoder = LabelEncoder()#--------------------------------------------using labelencoder here\n",
    "data['FuelType'] = labelencoder.fit_transform(data['FuelType'])\n"
   ]
  },
  {
   "cell_type": "code",
   "execution_count": 32,
   "metadata": {
    "colab": {},
    "colab_type": "code",
    "id": "wiHygWDlcYJt"
   },
   "outputs": [],
   "source": [
    "y = data.FuelType#----------------label set\n",
    "X = data#------------------------without label data"
   ]
  },
  {
   "cell_type": "code",
   "execution_count": 33,
   "metadata": {
    "colab": {},
    "colab_type": "code",
    "id": "a8lwUPPecaWt"
   },
   "outputs": [],
   "source": [
    "X= X.drop(columns=\"FuelType\")"
   ]
  },
  {
   "cell_type": "code",
   "execution_count": 34,
   "metadata": {
    "colab": {
     "base_uri": "https://localhost:8080/",
     "height": 50
    },
    "colab_type": "code",
    "id": "vxyd0jPOcchl",
    "outputId": "1d403de7-3c3f-4f81-a835-e6371fea7f68"
   },
   "outputs": [
    {
     "name": "stdout",
     "output_type": "stream",
     "text": [
      "(430,)\n",
      "(1006,)\n"
     ]
    }
   ],
   "source": [
    "X_train, X_test, y_train, y_test = train_test_split(X, y,test_size=0.7)\n",
    "print(y_train.shape)\n",
    "print(y_test.shape)"
   ]
  },
  {
   "cell_type": "code",
   "execution_count": 35,
   "metadata": {
    "colab": {
     "base_uri": "https://localhost:8080/",
     "height": 314
    },
    "colab_type": "code",
    "id": "k9kjU_MtAPrr",
    "outputId": "38827d23-a9ca-4edc-dcca-a1e3b3f7af3a"
   },
   "outputs": [
    {
     "data": {
      "text/html": [
       "<div>\n",
       "<style scoped>\n",
       "    .dataframe tbody tr th:only-of-type {\n",
       "        vertical-align: middle;\n",
       "    }\n",
       "\n",
       "    .dataframe tbody tr th {\n",
       "        vertical-align: top;\n",
       "    }\n",
       "\n",
       "    .dataframe thead th {\n",
       "        text-align: right;\n",
       "    }\n",
       "</style>\n",
       "<table border=\"1\" class=\"dataframe\">\n",
       "  <thead>\n",
       "    <tr style=\"text-align: right;\">\n",
       "      <th></th>\n",
       "      <th>Price</th>\n",
       "      <th>Age</th>\n",
       "      <th>KM</th>\n",
       "      <th>CC</th>\n",
       "      <th>Weight</th>\n",
       "    </tr>\n",
       "  </thead>\n",
       "  <tbody>\n",
       "    <tr>\n",
       "      <th>1222</th>\n",
       "      <td>8250</td>\n",
       "      <td>79</td>\n",
       "      <td>84966</td>\n",
       "      <td>1600</td>\n",
       "      <td>1070</td>\n",
       "    </tr>\n",
       "    <tr>\n",
       "      <th>378</th>\n",
       "      <td>6500</td>\n",
       "      <td>53</td>\n",
       "      <td>216000</td>\n",
       "      <td>1900</td>\n",
       "      <td>1110</td>\n",
       "    </tr>\n",
       "    <tr>\n",
       "      <th>1182</th>\n",
       "      <td>9900</td>\n",
       "      <td>80</td>\n",
       "      <td>92255</td>\n",
       "      <td>1600</td>\n",
       "      <td>1105</td>\n",
       "    </tr>\n",
       "    <tr>\n",
       "      <th>227</th>\n",
       "      <td>11690</td>\n",
       "      <td>34</td>\n",
       "      <td>65345</td>\n",
       "      <td>1400</td>\n",
       "      <td>1060</td>\n",
       "    </tr>\n",
       "    <tr>\n",
       "      <th>199</th>\n",
       "      <td>11950</td>\n",
       "      <td>39</td>\n",
       "      <td>98823</td>\n",
       "      <td>1600</td>\n",
       "      <td>1119</td>\n",
       "    </tr>\n",
       "    <tr>\n",
       "      <th>799</th>\n",
       "      <td>8250</td>\n",
       "      <td>65</td>\n",
       "      <td>74179</td>\n",
       "      <td>1600</td>\n",
       "      <td>1050</td>\n",
       "    </tr>\n",
       "    <tr>\n",
       "      <th>1244</th>\n",
       "      <td>6950</td>\n",
       "      <td>70</td>\n",
       "      <td>81663</td>\n",
       "      <td>1600</td>\n",
       "      <td>1050</td>\n",
       "    </tr>\n",
       "    <tr>\n",
       "      <th>282</th>\n",
       "      <td>12850</td>\n",
       "      <td>39</td>\n",
       "      <td>45713</td>\n",
       "      <td>1400</td>\n",
       "      <td>1085</td>\n",
       "    </tr>\n",
       "    <tr>\n",
       "      <th>502</th>\n",
       "      <td>9900</td>\n",
       "      <td>53</td>\n",
       "      <td>57475</td>\n",
       "      <td>1600</td>\n",
       "      <td>1040</td>\n",
       "    </tr>\n",
       "  </tbody>\n",
       "</table>\n",
       "</div>"
      ],
      "text/plain": [
       "      Price  Age      KM    CC  Weight\n",
       "1222   8250   79   84966  1600    1070\n",
       "378    6500   53  216000  1900    1110\n",
       "1182   9900   80   92255  1600    1105\n",
       "227   11690   34   65345  1400    1060\n",
       "199   11950   39   98823  1600    1119\n",
       "799    8250   65   74179  1600    1050\n",
       "1244   6950   70   81663  1600    1050\n",
       "282   12850   39   45713  1400    1085\n",
       "502    9900   53   57475  1600    1040"
      ]
     },
     "execution_count": 35,
     "metadata": {},
     "output_type": "execute_result"
    }
   ],
   "source": [
    "X_train[1:10]"
   ]
  },
  {
   "cell_type": "code",
   "execution_count": 36,
   "metadata": {
    "colab": {
     "base_uri": "https://localhost:8080/",
     "height": 185
    },
    "colab_type": "code",
    "id": "D1diBo5ABQJq",
    "outputId": "6aa63d8b-01a4-4070-ecaa-a8aea4fba268"
   },
   "outputs": [
    {
     "data": {
      "text/plain": [
       "1222    1\n",
       "378     2\n",
       "1182    1\n",
       "227     1\n",
       "199     0\n",
       "799     1\n",
       "1244    1\n",
       "282     1\n",
       "502     1\n",
       "Name: FuelType, dtype: int32"
      ]
     },
     "execution_count": 36,
     "metadata": {},
     "output_type": "execute_result"
    }
   ],
   "source": [
    "y_train[1:10]\n",
    "#print(y_train.nunique)"
   ]
  },
  {
   "cell_type": "code",
   "execution_count": 37,
   "metadata": {
    "colab": {},
    "colab_type": "code",
    "id": "AdU7NEICoRxi"
   },
   "outputs": [],
   "source": [
    "X_train=pd.DataFrame(X_train).to_numpy()#--------------converting pandas dataframe to numpy dataset\n",
    "X_test=pd.DataFrame(X_test).to_numpy()\n",
    "y_train=pd.DataFrame(y_train).to_numpy()\n",
    "y_test=pd.DataFrame(y_test).to_numpy()"
   ]
  },
  {
   "cell_type": "code",
   "execution_count": 38,
   "metadata": {
    "colab": {},
    "colab_type": "code",
    "id": "p9nl9FcoGGen"
   },
   "outputs": [],
   "source": [
    "def sigmoid(s, deriv=False):\n",
    "  if(deriv == True):\n",
    "    return s * (1 - s)\n",
    "  return 1/(1  + np.exp(-s))"
   ]
  },
  {
   "cell_type": "code",
   "execution_count": null,
   "metadata": {
    "colab": {},
    "colab_type": "code",
    "id": "tvK4oXMAmxtm"
   },
   "outputs": [],
   "source": []
  },
  {
   "cell_type": "code",
   "execution_count": 39,
   "metadata": {
    "colab": {},
    "colab_type": "code",
    "id": "5vK_A6D4QpLs"
   },
   "outputs": [],
   "source": [
    "Input_layer = 5\n",
    "Output_layer = 1\n",
    "Hidden_layer_1 = 100\n",
    "Hidden_layer_2 = 100\n",
    "Hidden_layer_3 = 100\n",
    "Hidden_layer_4 = 100\n",
    "learning_rate = 0.01\n",
    "Weight_1 = np.random.normal(size=[Input_layer, Hidden_layer_1]) \n",
    "Weight_2 = np.random.normal(size=[Hidden_layer_1, Hidden_layer_2]) \n",
    "Weight_3 = np.random.normal(size=[Hidden_layer_2, Hidden_layer_3]) \n",
    "Weight_4 = np.random.normal(size=[Hidden_layer_3, Hidden_layer_4])\n",
    "Weight_5 = np.random.normal(size=[Hidden_layer_4, Output_layer])\n"
   ]
  },
  {
   "cell_type": "code",
   "execution_count": null,
   "metadata": {
    "colab": {},
    "colab_type": "code",
    "id": "qgY1bjuYqBG9"
   },
   "outputs": [],
   "source": []
  },
  {
   "cell_type": "markdown",
   "metadata": {
    "colab_type": "text",
    "id": "VVbNPOnC8YSM"
   },
   "source": [
    "## **Main Neural network class starts here**"
   ]
  },
  {
   "cell_type": "code",
   "execution_count": 40,
   "metadata": {
    "colab": {},
    "colab_type": "code",
    "id": "kUE3CxfGqGAN"
   },
   "outputs": [],
   "source": [
    "import numpy as np\n",
    "from random import seed\n",
    "\n",
    "learning_rate = 0.0001\n",
    "class Four_layer_NeuralNetwork(object):#-----------------------------------------Main Neural network class\n",
    "    def __init__(self):\n",
    "        #parameters\n",
    "        self.Input_layer = 5\n",
    "        self.Output_layer = 1\n",
    "        self.Hidden_layer_1 = 10#---------------------------------------------------------setting parameters of input layer, output layer and hidden layer\n",
    "        self.Hidden_layer_2 = 20\n",
    "        self.Hidden_layer_3 = 30\n",
    "        self.Hidden_layer_4 = 15\n",
    "        learning_rate = 0.0001#-------------------------------------------------------------Setting learning rate from here\n",
    "        \n",
    "        #weights\n",
    "        self.Weight_1 = np.random.normal(size=[self.Input_layer, self.Hidden_layer_1]) \n",
    "        self.Weight_2 = np.random.normal(size=[self.Hidden_layer_1, self.Hidden_layer_2]) #----------------------creating weight matrix according to the size of hidden layer\n",
    "        self.Weight_3 = np.random.normal(size=[self.Hidden_layer_2, self.Hidden_layer_3]) \n",
    "        self.Weight_4 = np.random.normal(size=[self.Hidden_layer_3, self.Hidden_layer_4]) \n",
    "        self.Weight_5 = np.random.normal(size=[self.Hidden_layer_4, self.Output_layer]) \n",
    "        \n",
    "    def feedForward(self, X_train):#--------------------------------------Creating function for forward propagation\n",
    "        #forward propogation through the network\n",
    "        self.Forward = np.dot(X_train, self.Weight_1)\n",
    "        self.Forward2 = self.sigmoid(self.Forward) \n",
    "\n",
    "        self.Forward3 = np.dot(self.Forward2, self.Weight_2) #-------------------------------> layers connecting in forward directio\n",
    "        self.Forward4 = self.sigmoid(self.Forward3) #------------------Activation function\n",
    "\n",
    "        self.Forward5 = np.dot(self.Forward4, self.Weight_3) \n",
    "        self.Forward6 = self.sigmoid(self.Forward5) \n",
    "\n",
    "        self.Forward7 = np.dot(self.Forward6, self.Weight_4) \n",
    "        self.Forward8 = self.sigmoid(self.Forward7)\n",
    "\n",
    "        self.Forward9 = np.dot(self.Forward8, self.Weight_5)\n",
    "        output = self.sigmoid(self.Forward9)\n",
    "        return output\n",
    "        \n",
    "    def sigmoid(self, s, deriv=False):#--------------------------------------Defining Sigmaoid function\n",
    "        if (deriv == True):\n",
    "            return s * (1 - s)\n",
    "        return 1/(1 + np.exp(-s))\n",
    "    \n",
    "    def Backpropagate(self, X_train, y_train, output):#-------------------------------------------defining Backpropagate function within the class\n",
    "        #Backpropagate propogate through the network\n",
    "        self.output_error = y_train - output\n",
    "        self.output_delta = self.output_error * self.sigmoid(output, deriv=True)#---------------------------backpropagating from back to front(output to input layer)\n",
    "        \n",
    "        self.Forward8_error = self.output_delta.dot(self.Weight_5.T)\n",
    "        self.Forward8_delta = self.Forward8_error * self.sigmoid(self.Forward8, deriv=True)\n",
    "\n",
    "        self.Forward6_error = self.Forward8_delta.dot(self.Weight_4.T) \n",
    "        self.Forward6_delta = self.Forward6_error * self.sigmoid(self.Forward6, deriv=True) \n",
    "\n",
    "        self.Forward4_error = self.Forward6_delta.dot(self.Weight_3.T) \n",
    "        self.Forward4_delta = self.Forward4_error * self.sigmoid(self.Forward4, deriv=True)\n",
    "\n",
    "        self.Forward2_error = self.Forward4_delta.dot(self.Weight_2.T) \n",
    "        self.Forward2_delta = self.Forward2_error * self.sigmoid(self.Forward2, deriv=True) \n",
    "\n",
    "        \n",
    "\n",
    "        \n",
    "#--------------------------Adjusting weight below\n",
    "        \n",
    "        \n",
    "        self.Weight_1 += learning_rate*X_train.T.dot(self.Forward2_delta) #------------------------------updating weights here\n",
    "        self.Weight_2 += learning_rate*self.Forward2.T.dot(self.Forward4_delta)\n",
    "        self.Weight_3 += learning_rate*self.Forward4.T.dot(self.Forward6_delta) \n",
    "        self.Weight_4 += learning_rate*self.Forward6.T.dot(self.Forward8_delta) \n",
    "        self.Weight_5 += learning_rate*self.Forward8.T.dot(self.output_delta) \n",
    "        \n",
    "    def train(self, X_train, y_train):\n",
    "        output = self.feedForward(X_train)\n",
    "        self.Backpropagate(X_train, y_train, output)\n",
    "        \n",
    "\n"
   ]
  },
  {
   "cell_type": "markdown",
   "metadata": {
    "colab_type": "text",
    "id": "uAe35PR-8vhF"
   },
   "source": [
    "## **Final Training Accuracy**\n"
   ]
  },
  {
   "cell_type": "code",
   "execution_count": 53,
   "metadata": {
    "colab": {
     "base_uri": "https://localhost:8080/",
     "height": 554
    },
    "colab_type": "code",
    "id": "WfDtQG1t8rtG",
    "outputId": "6e42545d-3627-4723-f6d1-53b48ffd7c2c"
   },
   "outputs": [
    {
     "name": "stdout",
     "output_type": "stream",
     "text": [
      "Training Accuracy: epoch 1 0.9302325581395349\n",
      "Training Accuracy: epoch 2 0.9302325581395349\n",
      "Training Accuracy: epoch 3 0.9302325581395349\n",
      "Training Accuracy: epoch 4 0.9302325581395349\n",
      "Training Accuracy: epoch 5 1.8604651162790697\n",
      "Training Accuracy: epoch 6 1.8604651162790697\n",
      "Training Accuracy: epoch 7 1.8604651162790697\n",
      "Training Accuracy: epoch 8 77.90697674418605\n",
      "Training Accuracy: epoch 9 81.16279069767441\n",
      "Training Accuracy: epoch 10 86.27906976744187\n",
      "Training Accuracy: epoch 11 86.27906976744187\n",
      "Training Accuracy: epoch 12 86.27906976744187\n",
      "Training Accuracy: epoch 13 87.44186046511628\n",
      "Training Accuracy: epoch 14 87.44186046511628\n",
      "Training Accuracy: epoch 15 87.44186046511628\n",
      "Training Accuracy: epoch 16 87.44186046511628\n",
      "Training Accuracy: epoch 17 87.44186046511628\n",
      "Training Accuracy: epoch 18 87.44186046511628\n",
      "Training Accuracy: epoch 19 87.44186046511628\n",
      "Training Accuracy: epoch 20 87.44186046511628\n",
      "Training Accuracy: epoch 21 87.44186046511628\n",
      "Training Accuracy: epoch 22 87.44186046511628\n",
      "Training Accuracy: epoch 23 87.44186046511628\n",
      "Training Accuracy: epoch 24 87.44186046511628\n",
      "Training Accuracy: epoch 25 87.44186046511628\n",
      "Training Accuracy: epoch 26 87.44186046511628\n",
      "Training Accuracy: epoch 27 87.44186046511628\n",
      "Training Accuracy: epoch 28 87.44186046511628\n",
      "Training Accuracy: epoch 29 87.44186046511628\n",
      "Training Accuracy: epoch 30 87.44186046511628\n",
      "Accuracy: 87.44186046511628\n"
     ]
    },
    {
     "name": "stderr",
     "output_type": "stream",
     "text": [
      "<ipython-input-40-534bfa9dd00c>:44: RuntimeWarning: overflow encountered in exp\n",
      "  return 1/(1 + np.exp(-s))\n"
     ]
    }
   ],
   "source": [
    "NN = Four_layer_NeuralNetwork()\n",
    "\n",
    "for i in range(30): #-------------------------------NUmber of epochs for neural network and for updating weights\n",
    "    \n",
    "    if i%1==0:\n",
    "      print(\"Training Accuracy: epoch\", + i+1, str(accuracy_score(y_train.round(),NN.feedForward(X_train).round())*100))\n",
    "    NN.train(X_train, y_train)\n",
    "        \n",
    "\n",
    "print(\"Accuracy: \" + str(accuracy_score(y_train.round(),NN.feedForward(X_train).round())*100))"
   ]
  },
  {
   "cell_type": "code",
   "execution_count": null,
   "metadata": {
    "colab": {},
    "colab_type": "code",
    "id": "duW49bQn8qtf"
   },
   "outputs": [],
   "source": []
  },
  {
   "cell_type": "markdown",
   "metadata": {
    "colab_type": "text",
    "id": "Lrm3YtZe8iGJ"
   },
   "source": [
    "## **Final Testing Accuracy**\n"
   ]
  },
  {
   "cell_type": "code",
   "execution_count": 57,
   "metadata": {
    "colab": {
     "base_uri": "https://localhost:8080/",
     "height": 50
    },
    "colab_type": "code",
    "id": "_H8QMMERu5Ud",
    "outputId": "85f92b67-8ff3-49d2-de54-cbc615e4ca97"
   },
   "outputs": [
    {
     "name": "stdout",
     "output_type": "stream",
     "text": [
      "Testing Accuracy: 79.72166998011929\n"
     ]
    },
    {
     "name": "stderr",
     "output_type": "stream",
     "text": [
      "<ipython-input-40-534bfa9dd00c>:44: RuntimeWarning: overflow encountered in exp\n",
      "  return 1/(1 + np.exp(-s))\n"
     ]
    }
   ],
   "source": [
    "#---testing accuracy\n",
    "\n",
    "NN = Four_layer_NeuralNetwork()\n",
    "\n",
    "\n",
    "print(\"Testing Accuracy: \" + str(accuracy_score(y_test.round(),NN.feedForward(X_test).round())*100))\n",
    "    "
   ]
  },
  {
   "cell_type": "markdown",
   "metadata": {
    "colab_type": "text",
    "id": "cwAq7vmv8hEa"
   },
   "source": []
  },
  {
   "cell_type": "code",
   "execution_count": null,
   "metadata": {
    "colab": {},
    "colab_type": "code",
    "id": "XazWjNm-v_KN"
   },
   "outputs": [],
   "source": []
  },
  {
   "cell_type": "code",
   "execution_count": null,
   "metadata": {
    "colab": {},
    "colab_type": "code",
    "id": "wpYaqF-QwAS8"
   },
   "outputs": [],
   "source": []
  },
  {
   "cell_type": "code",
   "execution_count": null,
   "metadata": {},
   "outputs": [],
   "source": []
  },
  {
   "cell_type": "code",
   "execution_count": null,
   "metadata": {},
   "outputs": [],
   "source": []
  },
  {
   "cell_type": "code",
   "execution_count": null,
   "metadata": {},
   "outputs": [],
   "source": []
  },
  {
   "cell_type": "code",
   "execution_count": null,
   "metadata": {},
   "outputs": [],
   "source": []
  },
  {
   "cell_type": "code",
   "execution_count": null,
   "metadata": {},
   "outputs": [],
   "source": []
  },
  {
   "cell_type": "code",
   "execution_count": null,
   "metadata": {},
   "outputs": [],
   "source": []
  },
  {
   "cell_type": "code",
   "execution_count": null,
   "metadata": {},
   "outputs": [],
   "source": []
  },
  {
   "cell_type": "code",
   "execution_count": null,
   "metadata": {},
   "outputs": [],
   "source": []
  }
 ],
 "metadata": {
  "colab": {
   "collapsed_sections": [],
   "name": "4 layer Backpropagation_Toyota.ipynb",
   "provenance": []
  },
  "kernelspec": {
   "display_name": "Python 3",
   "language": "python",
   "name": "python3"
  },
  "language_info": {
   "codemirror_mode": {
    "name": "ipython",
    "version": 3
   },
   "file_extension": ".py",
   "mimetype": "text/x-python",
   "name": "python",
   "nbconvert_exporter": "python",
   "pygments_lexer": "ipython3",
   "version": "3.8.1"
  }
 },
 "nbformat": 4,
 "nbformat_minor": 1
}
